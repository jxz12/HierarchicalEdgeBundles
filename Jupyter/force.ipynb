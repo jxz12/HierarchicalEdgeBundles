{
 "cells": [
  {
   "cell_type": "code",
   "execution_count": 2,
   "metadata": {},
   "outputs": [],
   "source": [
    "import numpy as np\n",
    "import numpy.linalg as lalg\n",
    "from numpy.random import rand\n",
    "import math\n",
    "from s_gd2 import draw_svg, layout\n",
    "import networkx as nx\n",
    "from IPython.display import Image\n",
    "from matplotlib.pyplot import imshow\n",
    "%matplotlib inline"
   ]
  },
  {
   "cell_type": "markdown",
   "metadata": {},
   "source": [
    "# generate graphs"
   ]
  },
  {
   "cell_type": "code",
   "execution_count": 3,
   "metadata": {},
   "outputs": [],
   "source": [
    "\"\"\"\n",
    "        0\n",
    "      /   \\\n",
    "    1       2\n",
    "   / \\     / \\\n",
    "  3   4   5   6\n",
    "\n",
    "children = x*2+1, x*2+2\n",
    "parent = (x-1)/2\n",
    "\"\"\"\n",
    "def maketree(depth):\n",
    "    I = []\n",
    "    J = []\n",
    "    def dfs(idx, depth):\n",
    "        if depth <= 0:\n",
    "            return\n",
    "        parent = (idx-1)//2\n",
    "        I.append(parent)\n",
    "        J.append(idx)\n",
    "        I.append(idx)\n",
    "        J.append(parent)\n",
    "\n",
    "        dfs(idx*2+1, depth-1)\n",
    "        dfs(idx*2+2, depth-1)\n",
    "\n",
    "    # node 0 is root and so has no parent\n",
    "    dfs(1, depth-1)\n",
    "    dfs(2, depth-1)\n",
    "    return I,J\n",
    "\n",
    "# make btree graph\n",
    "depth = 7\n",
    "I,J = maketree(depth)\n",
    "n = (1<<depth)-1\n",
    "A = np.zeros((n,n))\n",
    "for i,j in zip(I,J):\n",
    "    A[i,j] = 1"
   ]
  },
  {
   "cell_type": "code",
   "execution_count": 21,
   "metadata": {},
   "outputs": [],
   "source": [
    "\"\"\"\n",
    "   0 - 1 - 2 - 3\n",
    "   |   |   |   |\n",
    "   4 - 5 - 6 - 7\n",
    "   |   |   |   |\n",
    "   8 - 9 - 10- 11 \n",
    "   |   |   |   |\n",
    "   12- 13- 14- 15\n",
    "\"\"\"\n",
    "\n",
    "def two2oned(row, col):\n",
    "    return row*width + col\n",
    "\n",
    "def makegrid(width):\n",
    "    I = []\n",
    "    J = []\n",
    "    for row in range(width):\n",
    "        for col in range(width):\n",
    "            if row>0:\n",
    "                I.append(two2oned(row,col))\n",
    "                J.append(two2oned(row-1,col))\n",
    "            if row<width-1:\n",
    "                I.append(two2oned(row,col))\n",
    "                J.append(two2oned(row+1,col))\n",
    "            if col>0:\n",
    "                I.append(two2oned(row,col))\n",
    "                J.append(two2oned(row,col-1))\n",
    "            if col<width-1:\n",
    "                I.append(two2oned(row,col))\n",
    "                J.append(two2oned(row,col+1))\n",
    "    return I,J\n",
    "\n",
    "#make grid graph\n",
    "width = 7\n",
    "I,J = makegrid(width)\n",
    "n = width*width\n",
    "A = np.zeros((n,n))\n",
    "for i,j in zip(I,J):\n",
    "    A[i,j] = 1"
   ]
  },
  {
   "cell_type": "code",
   "execution_count": 65,
   "metadata": {},
   "outputs": [],
   "source": [
    "# sierpinski\n",
    "\"\"\"\n",
    "        1\n",
    "       / \\\n",
    "      2   3\n",
    "     / \\ / \\\n",
    "    4 - 5 - 6\n",
    "   / \\     / \\\n",
    "  7 - 8   9 - 0\n",
    " / \\ / \\ / \\ / \\\n",
    "1 - 2 - 3 - 4 - 5\n",
    "\n",
    "I have no idea what the actual indices will be lol\n",
    "\"\"\"\n",
    "\n",
    "def sierpinski(depth):\n",
    "    idx = 0\n",
    "    G = nx.Graph()\n",
    "    def rec(depth):\n",
    "        if depth <= 0:\n",
    "            nonlocal idx\n",
    "            nonlocal G\n",
    "            G.add_edge(idx, idx+1)\n",
    "            G.add_edge(idx+1, idx+2)\n",
    "            G.add_edge(idx+2, idx)\n",
    "            idx += 3\n",
    "            return (idx-3, idx-2, idx-1)\n",
    "        else:\n",
    "            tri0 = rec(depth-1)\n",
    "            tri1 = rec(depth-1)\n",
    "            tri2 = rec(depth-1)\n",
    "\n",
    "            G = nx.contracted_nodes(G, tri0[0], tri1[2])\n",
    "            G = nx.contracted_nodes(G, tri1[1], tri2[0])\n",
    "            G = nx.contracted_nodes(G, tri2[2], tri0[1])\n",
    "            return (tri0[2], tri1[0], tri2[1])\n",
    "        \n",
    "    corners = rec(depth)\n",
    "    G = nx.relabel.convert_node_labels_to_integers(G, label_attribute='orig')\n",
    "    old2new = {b:a for a,b in nx.get_node_attributes(G, 'orig').items()}\n",
    "    return G,(old2new[corners[0]], old2new[corners[1]], old2new[corners[2]])\n",
    "\n",
    "G,corners = sierpinski(4)\n",
    "A = nx.to_numpy_array(G)\n",
    "I,J = zip(*G.edges)\n",
    "n = len(G)"
   ]
  },
  {
   "cell_type": "markdown",
   "metadata": {},
   "source": [
    "# do layouts"
   ]
  },
  {
   "cell_type": "code",
   "execution_count": 4,
   "metadata": {},
   "outputs": [],
   "source": [
    "# calculate Laplacian matrix\n",
    "\n",
    "D = np.identity(n) * np.sum(A, axis=1)\n",
    "L = D - A"
   ]
  },
  {
   "cell_type": "code",
   "execution_count": 7,
   "metadata": {},
   "outputs": [
    {
     "name": "stdout",
     "output_type": "stream",
     "text": [
      "7 127 63\n"
     ]
    }
   ],
   "source": [
    "# Tutte tree: fix leaf vertices then solve\n",
    "\n",
    "firstleaf = (1<<(depth-1))-1\n",
    "print(f'{depth} {n} {firstleaf}')\n",
    "\n",
    "b = np.zeros((n,2))\n",
    "nleaves = (n-firstleaf)\n",
    "for i in range(firstleaf, n):\n",
    "    L[i,:] = 0\n",
    "    L[i,i] = 1\n",
    "    rad = (i-firstleaf)/nleaves * 2*math.pi\n",
    "    b[i,0] = math.cos(rad)\n",
    "    b[i,1] = math.sin(rad)"
   ]
  },
  {
   "cell_type": "code",
   "execution_count": 33,
   "metadata": {},
   "outputs": [],
   "source": [
    "# Tutte grid: fix boundary vertices then solve\n",
    "b = np.zeros((n,2))\n",
    "\n",
    "def setlaplacianzero(idx, x, y):\n",
    "    L[idx,:] = 0\n",
    "    L[idx,idx] = 1\n",
    "    b[idx,0] = x\n",
    "    b[idx,1] = y\n",
    "    \n",
    "# spiral order hehe\n",
    "# for col in range(width):\n",
    "#     setlaplacianzero(two2oned(0,col), col, 0)\n",
    "# for row in range(1,width):\n",
    "#     setlaplacianzero(two2oned(row,width-1), width-1, row)\n",
    "# for col in range(width-2,-1,-1):\n",
    "#     setlaplacianzero(two2oned(width-1,col), col, width-1)\n",
    "# for row in range(width-2,0,-1):\n",
    "#     setlaplacianzero(two2oned(row,0), 0, row)\n",
    "\n",
    "setlaplacianzero(two2oned(0,0), 0,0)\n",
    "setlaplacianzero(two2oned(0,width-1), 0,1)\n",
    "setlaplacianzero(two2oned(width-1,0), 1,0)\n",
    "setlaplacianzero(two2oned(width-1,width-1), 1,1)"
   ]
  },
  {
   "cell_type": "code",
   "execution_count": 67,
   "metadata": {},
   "outputs": [],
   "source": [
    "# Tutte Sierpinski: fix only corners\n",
    "b = np.zeros((n,2))\n",
    "\n",
    "i,j,k = corners\n",
    "L[i,:] = L[j,:] = L[k,:] = 0\n",
    "L[i,i] = L[j,j] = L[k,k] = 1\n",
    "\n",
    "b[i] = [0,0]\n",
    "b[j] = [1,0]\n",
    "b[k] = [.5, .5*math.tan(math.pi/3)]"
   ]
  },
  {
   "cell_type": "code",
   "execution_count": 8,
   "metadata": {},
   "outputs": [],
   "source": [
    "# solve tutte\n",
    "X = lalg.solve(L,b)\n",
    "\n",
    "draw_svg(X, I, J, 'figures/force_tutte.svg', linkwidth=.003, noderadius=.006)"
   ]
  },
  {
   "cell_type": "code",
   "execution_count": 59,
   "metadata": {},
   "outputs": [],
   "source": [
    "# Spectral: calculate eigenvalues\n",
    "w,v = lalg.eig(L)\n",
    "\n",
    "# take second and third eigenvectors\n",
    "idx = w.argsort()\n",
    "X = np.real(v[:,idx[1:3]]) # 0 index is zero eigenvalue\n",
    "\n",
    "draw_svg(X, I, J, 'figures/force_spectral.svg', linkwidth=.002, noderadius=.003)"
   ]
  },
  {
   "cell_type": "code",
   "execution_count": 80,
   "metadata": {},
   "outputs": [],
   "source": [
    "# Eades\n",
    "c1 = 2\n",
    "c2 = 1\n",
    "c3 = 1\n",
    "c4 = .1\n",
    "iters = 100\n",
    "\n",
    "X = rand(n,2) * 6 # if not multiplied by six, the repulsive force are too big\n",
    "for i in range(iters):\n",
    "    # sum up gradients\n",
    "    ddx = np.zeros((n,2))\n",
    "    for src in range(n):\n",
    "        for tgt in range(n):\n",
    "            if src==tgt:\n",
    "                continue\n",
    "            vec = X[tgt] - X[src]\n",
    "            d = lalg.norm(vec)\n",
    "            norm = vec/d\n",
    "            if A[src,tgt] != 0:\n",
    "                ddx[src] -= (c1 * math.log2(d/c2)) * norm\n",
    "            else:\n",
    "                ddx[src] += (c3 / (d*d)) * norm\n",
    "    # descend\n",
    "    for src in range(n):\n",
    "        X[src] -= c4 * ddx[src]\n",
    "        \n",
    "draw_svg(X, I, J, 'figures/force_eades.svg', linkwidth=.2, noderadius=.4)"
   ]
  },
  {
   "cell_type": "code",
   "execution_count": 78,
   "metadata": {},
   "outputs": [],
   "source": [
    "# stress\n",
    "X = layout(I,J)\n",
    "draw_svg(X, I, J, 'figures/force_stress.svg', linkwidth=.1, noderadius=.2)"
   ]
  },
  {
   "cell_type": "code",
   "execution_count": null,
   "metadata": {},
   "outputs": [],
   "source": []
  }
 ],
 "metadata": {
  "kernelspec": {
   "display_name": "Python 3",
   "language": "python",
   "name": "python3"
  },
  "language_info": {
   "codemirror_mode": {
    "name": "ipython",
    "version": 3
   },
   "file_extension": ".py",
   "mimetype": "text/x-python",
   "name": "python",
   "nbconvert_exporter": "python",
   "pygments_lexer": "ipython3",
   "version": "3.6.9"
  }
 },
 "nbformat": 4,
 "nbformat_minor": 4
}
